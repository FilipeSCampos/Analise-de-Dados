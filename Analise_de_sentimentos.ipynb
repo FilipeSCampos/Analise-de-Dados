{
  "nbformat": 4,
  "nbformat_minor": 0,
  "metadata": {
    "colab": {
      "provenance": [],
      "authorship_tag": "ABX9TyNAU8FC4VvqzZI5ouPo3+cj",
      "include_colab_link": true
    },
    "kernelspec": {
      "name": "python3",
      "display_name": "Python 3"
    },
    "language_info": {
      "name": "python"
    }
  },
  "cells": [
    {
      "cell_type": "markdown",
      "metadata": {
        "id": "view-in-github",
        "colab_type": "text"
      },
      "source": [
        "<a href=\"https://colab.research.google.com/github/FilipeSCampos/Analise-de-Dados/blob/main/Analise_de_sentimentos.ipynb\" target=\"_parent\"><img src=\"https://colab.research.google.com/assets/colab-badge.svg\" alt=\"Open In Colab\"/></a>"
      ]
    },
    {
      "cell_type": "code",
      "execution_count": null,
      "metadata": {
        "id": "ue5tRLHGvnau"
      },
      "outputs": [],
      "source": [
        "!pip install python-twitter-v2\n",
        "!pip install snscrape\n",
        "!pip install textblob\n",
        "!pip install unidecode\n",
        "!pip install googletrans==4.0.0rc1"
      ]
    },
    {
      "cell_type": "code",
      "source": [
        "import pandas as pd\n",
        "import snscrape.modules.twitter as dados\n",
        "import datetime\n",
        "from textblob import TextBlob\n",
        "from unidecode import unidecode\n"
      ],
      "metadata": {
        "id": "3-CN3tJLxu22"
      },
      "execution_count": 2,
      "outputs": []
    },
    {
      "cell_type": "code",
      "source": [
        "lista_tweets_neymar = []\n",
        "\n",
        "data_final = datetime.date.today()\n",
        "data_inicial = '2022-1-1'\n"
      ],
      "metadata": {
        "id": "seq7Cx-50qnc"
      },
      "execution_count": 3,
      "outputs": []
    },
    {
      "cell_type": "code",
      "source": [
        "for i,tweet in enumerate(dados.TwitterSearchScraper(f'{\"Neymar\"} + since:{data_inicial} until:{data_final}').get_items()):\n",
        "  if i>250:\n",
        "    break\n",
        "  lista_tweets_neymar.append([tweet.date, tweet.id, tweet.content, tweet.username])"
      ],
      "metadata": {
        "id": "yvS-gdoN0-VO",
        "colab": {
          "base_uri": "https://localhost:8080/"
        },
        "outputId": "16125fe1-e81c-45d2-bc5f-9889b560e551"
      },
      "execution_count": 4,
      "outputs": [
        {
          "output_type": "stream",
          "name": "stderr",
          "text": [
            "<ipython-input-4-43d31aaad76c>:4: FutureWarning: username is deprecated, use user.username instead\n",
            "  lista_tweets_neymar.append([tweet.date, tweet.id, tweet.content, tweet.username])\n"
          ]
        }
      ]
    },
    {
      "cell_type": "code",
      "source": [
        "df_op = pd.DataFrame(lista_tweets_neymar, columns=['Datetime','Tweetid','Text','Username'])\n",
        "display(df_op)"
      ],
      "metadata": {
        "colab": {
          "base_uri": "https://localhost:8080/",
          "height": 423
        },
        "id": "3MSe8z0q197D",
        "outputId": "ef845f38-fe2b-4193-b1c9-92ce4017bf84"
      },
      "execution_count": 5,
      "outputs": [
        {
          "output_type": "display_data",
          "data": {
            "text/plain": [
              "                     Datetime              Tweetid  \\\n",
              "0   2023-01-05 23:59:58+00:00  1611150544986378241   \n",
              "1   2023-01-05 23:59:44+00:00  1611150488858230786   \n",
              "2   2023-01-05 23:59:41+00:00  1611150476220694530   \n",
              "3   2023-01-05 23:59:31+00:00  1611150433204027392   \n",
              "4   2023-01-05 23:59:31+00:00  1611150432230940672   \n",
              "..                        ...                  ...   \n",
              "246 2023-01-05 23:32:14+00:00  1611143567245713408   \n",
              "247 2023-01-05 23:31:59+00:00  1611143504331169793   \n",
              "248 2023-01-05 23:31:58+00:00  1611143500447227906   \n",
              "249 2023-01-05 23:31:54+00:00  1611143483166687232   \n",
              "250 2023-01-05 23:31:44+00:00  1611143439369863170   \n",
              "\n",
              "                                                  Text         Username  \n",
              "0    @pachecs_peter @futtmais Cara hoje eu prefiro ...   MerdiCommander  \n",
              "1    MDS só agr que eu descobri que o Neymar aparec...         iisahxll  \n",
              "2    @Rf7gg Esses 4 gols e 1 título do Mbappe conti...          Mrcos77  \n",
              "3    💉FOOTBALLERS CREATE VACCINES!💉Feat Ronaldo Ney...      ScriptCards  \n",
              "4    💉FOOTBALLERS CREATE VACCINES!💉Feat Ronaldo Ney...       DarylDoc22  \n",
              "..                                                 ...              ...  \n",
              "246       Neymar lendo isso: 😡 https://t.co/s8D4bWni4f     vitorimpieri  \n",
              "247  @Encu5Futbol 🏴󠁧󠁢󠁥󠁮󠁧󠁿haland\\n🇮🇹ibraikmovich\\n🇪🇸...  elgordovecchio1  \n",
              "248  @razzykuti90 @EtuboLion Really if you want to ...          Vybez_R  \n",
              "249  Interesting stuff on neymids ‘26 hopes. Ronald...     noowaayhomie  \n",
              "250          tirei o neymar no ut e nada mais me abala        kazimdeoz  \n",
              "\n",
              "[251 rows x 4 columns]"
            ],
            "text/html": [
              "\n",
              "  <div id=\"df-51180cca-d768-46c9-908e-0488ca2df11d\">\n",
              "    <div class=\"colab-df-container\">\n",
              "      <div>\n",
              "<style scoped>\n",
              "    .dataframe tbody tr th:only-of-type {\n",
              "        vertical-align: middle;\n",
              "    }\n",
              "\n",
              "    .dataframe tbody tr th {\n",
              "        vertical-align: top;\n",
              "    }\n",
              "\n",
              "    .dataframe thead th {\n",
              "        text-align: right;\n",
              "    }\n",
              "</style>\n",
              "<table border=\"1\" class=\"dataframe\">\n",
              "  <thead>\n",
              "    <tr style=\"text-align: right;\">\n",
              "      <th></th>\n",
              "      <th>Datetime</th>\n",
              "      <th>Tweetid</th>\n",
              "      <th>Text</th>\n",
              "      <th>Username</th>\n",
              "    </tr>\n",
              "  </thead>\n",
              "  <tbody>\n",
              "    <tr>\n",
              "      <th>0</th>\n",
              "      <td>2023-01-05 23:59:58+00:00</td>\n",
              "      <td>1611150544986378241</td>\n",
              "      <td>@pachecs_peter @futtmais Cara hoje eu prefiro ...</td>\n",
              "      <td>MerdiCommander</td>\n",
              "    </tr>\n",
              "    <tr>\n",
              "      <th>1</th>\n",
              "      <td>2023-01-05 23:59:44+00:00</td>\n",
              "      <td>1611150488858230786</td>\n",
              "      <td>MDS só agr que eu descobri que o Neymar aparec...</td>\n",
              "      <td>iisahxll</td>\n",
              "    </tr>\n",
              "    <tr>\n",
              "      <th>2</th>\n",
              "      <td>2023-01-05 23:59:41+00:00</td>\n",
              "      <td>1611150476220694530</td>\n",
              "      <td>@Rf7gg Esses 4 gols e 1 título do Mbappe conti...</td>\n",
              "      <td>Mrcos77</td>\n",
              "    </tr>\n",
              "    <tr>\n",
              "      <th>3</th>\n",
              "      <td>2023-01-05 23:59:31+00:00</td>\n",
              "      <td>1611150433204027392</td>\n",
              "      <td>💉FOOTBALLERS CREATE VACCINES!💉Feat Ronaldo Ney...</td>\n",
              "      <td>ScriptCards</td>\n",
              "    </tr>\n",
              "    <tr>\n",
              "      <th>4</th>\n",
              "      <td>2023-01-05 23:59:31+00:00</td>\n",
              "      <td>1611150432230940672</td>\n",
              "      <td>💉FOOTBALLERS CREATE VACCINES!💉Feat Ronaldo Ney...</td>\n",
              "      <td>DarylDoc22</td>\n",
              "    </tr>\n",
              "    <tr>\n",
              "      <th>...</th>\n",
              "      <td>...</td>\n",
              "      <td>...</td>\n",
              "      <td>...</td>\n",
              "      <td>...</td>\n",
              "    </tr>\n",
              "    <tr>\n",
              "      <th>246</th>\n",
              "      <td>2023-01-05 23:32:14+00:00</td>\n",
              "      <td>1611143567245713408</td>\n",
              "      <td>Neymar lendo isso: 😡 https://t.co/s8D4bWni4f</td>\n",
              "      <td>vitorimpieri</td>\n",
              "    </tr>\n",
              "    <tr>\n",
              "      <th>247</th>\n",
              "      <td>2023-01-05 23:31:59+00:00</td>\n",
              "      <td>1611143504331169793</td>\n",
              "      <td>@Encu5Futbol 🏴󠁧󠁢󠁥󠁮󠁧󠁿haland\\n🇮🇹ibraikmovich\\n🇪🇸...</td>\n",
              "      <td>elgordovecchio1</td>\n",
              "    </tr>\n",
              "    <tr>\n",
              "      <th>248</th>\n",
              "      <td>2023-01-05 23:31:58+00:00</td>\n",
              "      <td>1611143500447227906</td>\n",
              "      <td>@razzykuti90 @EtuboLion Really if you want to ...</td>\n",
              "      <td>Vybez_R</td>\n",
              "    </tr>\n",
              "    <tr>\n",
              "      <th>249</th>\n",
              "      <td>2023-01-05 23:31:54+00:00</td>\n",
              "      <td>1611143483166687232</td>\n",
              "      <td>Interesting stuff on neymids ‘26 hopes. Ronald...</td>\n",
              "      <td>noowaayhomie</td>\n",
              "    </tr>\n",
              "    <tr>\n",
              "      <th>250</th>\n",
              "      <td>2023-01-05 23:31:44+00:00</td>\n",
              "      <td>1611143439369863170</td>\n",
              "      <td>tirei o neymar no ut e nada mais me abala</td>\n",
              "      <td>kazimdeoz</td>\n",
              "    </tr>\n",
              "  </tbody>\n",
              "</table>\n",
              "<p>251 rows × 4 columns</p>\n",
              "</div>\n",
              "      <button class=\"colab-df-convert\" onclick=\"convertToInteractive('df-51180cca-d768-46c9-908e-0488ca2df11d')\"\n",
              "              title=\"Convert this dataframe to an interactive table.\"\n",
              "              style=\"display:none;\">\n",
              "        \n",
              "  <svg xmlns=\"http://www.w3.org/2000/svg\" height=\"24px\"viewBox=\"0 0 24 24\"\n",
              "       width=\"24px\">\n",
              "    <path d=\"M0 0h24v24H0V0z\" fill=\"none\"/>\n",
              "    <path d=\"M18.56 5.44l.94 2.06.94-2.06 2.06-.94-2.06-.94-.94-2.06-.94 2.06-2.06.94zm-11 1L8.5 8.5l.94-2.06 2.06-.94-2.06-.94L8.5 2.5l-.94 2.06-2.06.94zm10 10l.94 2.06.94-2.06 2.06-.94-2.06-.94-.94-2.06-.94 2.06-2.06.94z\"/><path d=\"M17.41 7.96l-1.37-1.37c-.4-.4-.92-.59-1.43-.59-.52 0-1.04.2-1.43.59L10.3 9.45l-7.72 7.72c-.78.78-.78 2.05 0 2.83L4 21.41c.39.39.9.59 1.41.59.51 0 1.02-.2 1.41-.59l7.78-7.78 2.81-2.81c.8-.78.8-2.07 0-2.86zM5.41 20L4 18.59l7.72-7.72 1.47 1.35L5.41 20z\"/>\n",
              "  </svg>\n",
              "      </button>\n",
              "      \n",
              "  <style>\n",
              "    .colab-df-container {\n",
              "      display:flex;\n",
              "      flex-wrap:wrap;\n",
              "      gap: 12px;\n",
              "    }\n",
              "\n",
              "    .colab-df-convert {\n",
              "      background-color: #E8F0FE;\n",
              "      border: none;\n",
              "      border-radius: 50%;\n",
              "      cursor: pointer;\n",
              "      display: none;\n",
              "      fill: #1967D2;\n",
              "      height: 32px;\n",
              "      padding: 0 0 0 0;\n",
              "      width: 32px;\n",
              "    }\n",
              "\n",
              "    .colab-df-convert:hover {\n",
              "      background-color: #E2EBFA;\n",
              "      box-shadow: 0px 1px 2px rgba(60, 64, 67, 0.3), 0px 1px 3px 1px rgba(60, 64, 67, 0.15);\n",
              "      fill: #174EA6;\n",
              "    }\n",
              "\n",
              "    [theme=dark] .colab-df-convert {\n",
              "      background-color: #3B4455;\n",
              "      fill: #D2E3FC;\n",
              "    }\n",
              "\n",
              "    [theme=dark] .colab-df-convert:hover {\n",
              "      background-color: #434B5C;\n",
              "      box-shadow: 0px 1px 3px 1px rgba(0, 0, 0, 0.15);\n",
              "      filter: drop-shadow(0px 1px 2px rgba(0, 0, 0, 0.3));\n",
              "      fill: #FFFFFF;\n",
              "    }\n",
              "  </style>\n",
              "\n",
              "      <script>\n",
              "        const buttonEl =\n",
              "          document.querySelector('#df-51180cca-d768-46c9-908e-0488ca2df11d button.colab-df-convert');\n",
              "        buttonEl.style.display =\n",
              "          google.colab.kernel.accessAllowed ? 'block' : 'none';\n",
              "\n",
              "        async function convertToInteractive(key) {\n",
              "          const element = document.querySelector('#df-51180cca-d768-46c9-908e-0488ca2df11d');\n",
              "          const dataTable =\n",
              "            await google.colab.kernel.invokeFunction('convertToInteractive',\n",
              "                                                     [key], {});\n",
              "          if (!dataTable) return;\n",
              "\n",
              "          const docLinkHtml = 'Like what you see? Visit the ' +\n",
              "            '<a target=\"_blank\" href=https://colab.research.google.com/notebooks/data_table.ipynb>data table notebook</a>'\n",
              "            + ' to learn more about interactive tables.';\n",
              "          element.innerHTML = '';\n",
              "          dataTable['output_type'] = 'display_data';\n",
              "          await google.colab.output.renderOutput(dataTable, element);\n",
              "          const docLink = document.createElement('div');\n",
              "          docLink.innerHTML = docLinkHtml;\n",
              "          element.appendChild(docLink);\n",
              "        }\n",
              "      </script>\n",
              "    </div>\n",
              "  </div>\n",
              "  "
            ]
          },
          "metadata": {}
        }
      ]
    },
    {
      "cell_type": "code",
      "source": [
        "numPos = 0\n",
        "numNeg = 0\n",
        "total = 0 "
      ],
      "metadata": {
        "id": "Qcai4CGy5QkO"
      },
      "execution_count": 6,
      "outputs": []
    },
    {
      "cell_type": "code",
      "source": [
        "textPT = df_op['Text'].apply(unidecode)\n",
        "display(textPT)"
      ],
      "metadata": {
        "colab": {
          "base_uri": "https://localhost:8080/",
          "height": 225
        },
        "id": "OQljmRR75ddk",
        "outputId": "c084105f-3006-4427-8433-f2457d1c6e54"
      },
      "execution_count": 7,
      "outputs": [
        {
          "output_type": "display_data",
          "data": {
            "text/plain": [
              "0      @pachecs_peter @futtmais Cara hoje eu prefiro ...\n",
              "1      MDS so agr que eu descobri que o Neymar aparec...\n",
              "2      @Rf7gg Esses 4 gols e 1 titulo do Mbappe conti...\n",
              "3      FOOTBALLERS CREATE VACCINES!Feat Ronaldo Neyma...\n",
              "4      FOOTBALLERS CREATE VACCINES!Feat Ronaldo Neyma...\n",
              "                             ...                        \n",
              "246          Neymar lendo isso:  https://t.co/s8D4bWni4f\n",
              "247    @Encu5Futbol haland\\nibraikmovich\\ngavi\\ngotze...\n",
              "248    @razzykuti90 @EtuboLion Really if you want to ...\n",
              "249    Interesting stuff on neymids '26 hopes. Ronald...\n",
              "250            tirei o neymar no ut e nada mais me abala\n",
              "Name: Text, Length: 251, dtype: object"
            ]
          },
          "metadata": {}
        }
      ]
    },
    {
      "cell_type": "code",
      "source": [
        "from googletrans import Translator\n",
        "translator = Translator()\n",
        "sentimento_neymar= []\n"
      ],
      "metadata": {
        "id": "hs0pMu90Adup"
      },
      "execution_count": 9,
      "outputs": []
    },
    {
      "cell_type": "code",
      "source": [
        "for x in textPT:\n",
        "    textEN = translator.translate(x).text\n",
        "    sentimento = TextBlob(textEN)\n",
        "    sentimento_neymar.append(sentimento.polarity) \n",
        "display(sentimento_neymar)"
      ],
      "metadata": {
        "id": "XGnCUpcxA3ZY"
      },
      "execution_count": null,
      "outputs": []
    },
    {
      "cell_type": "code",
      "source": [
        "total = len(sentimento_neymar)\n",
        "display(total)"
      ],
      "metadata": {
        "colab": {
          "base_uri": "https://localhost:8080/",
          "height": 34
        },
        "id": "ZEbrSotpDsDt",
        "outputId": "40034b2f-f69c-4162-8b83-334825966e5c"
      },
      "execution_count": 11,
      "outputs": [
        {
          "output_type": "display_data",
          "data": {
            "text/plain": [
              "251"
            ]
          },
          "metadata": {}
        }
      ]
    },
    {
      "cell_type": "code",
      "source": [
        "for valor in sentimento_neymar:\n",
        "  if valor > 0:\n",
        "    numPos += 1\n",
        "  elif valor < 0:\n",
        "    numNeg += 1"
      ],
      "metadata": {
        "id": "FdP8I8eVDVjX"
      },
      "execution_count": 12,
      "outputs": []
    },
    {
      "cell_type": "code",
      "source": [
        "mediapositiva = numPos/total\n",
        "medianegativa = numNeg/total\n",
        "print('Porcentagem de comentários positivos: '+str(mediapositiva))\n",
        "print('Porcentagem de comentários negativos: '+str(medianegativa))\n"
      ],
      "metadata": {
        "colab": {
          "base_uri": "https://localhost:8080/"
        },
        "id": "mwh9xQIlDiMz",
        "outputId": "0bec5803-3514-48d2-8358-edcd23ccbc87"
      },
      "execution_count": 13,
      "outputs": [
        {
          "output_type": "stream",
          "name": "stdout",
          "text": [
            "Porcentagem de comentários positivos: 0.32669322709163345\n",
            "Porcentagem de comentários negativos: 0.12350597609561753\n"
          ]
        }
      ]
    },
    {
      "cell_type": "code",
      "source": [
        "dados = {'Valores+' :[numPos],\n",
        "         'Valores-' :[numNeg],\n",
        "         'Media+':[mediapositiva],\n",
        "         'Media-':[medianegativa],\n",
        "         'Total':[total]}\n",
        "\n",
        "dados_df = pd.DataFrame(dados)\n",
        "display(dados_df)"
      ],
      "metadata": {
        "colab": {
          "base_uri": "https://localhost:8080/",
          "height": 81
        },
        "id": "qKofnqHDI41J",
        "outputId": "7c8e8adb-4bef-474b-d4f7-993ca4d6b0d5"
      },
      "execution_count": 14,
      "outputs": [
        {
          "output_type": "display_data",
          "data": {
            "text/plain": [
              "   Valores+  Valores-    Media+    Media-  Total\n",
              "0        82        31  0.326693  0.123506    251"
            ],
            "text/html": [
              "\n",
              "  <div id=\"df-f6c04487-3637-4e4a-9478-2c5db98d932c\">\n",
              "    <div class=\"colab-df-container\">\n",
              "      <div>\n",
              "<style scoped>\n",
              "    .dataframe tbody tr th:only-of-type {\n",
              "        vertical-align: middle;\n",
              "    }\n",
              "\n",
              "    .dataframe tbody tr th {\n",
              "        vertical-align: top;\n",
              "    }\n",
              "\n",
              "    .dataframe thead th {\n",
              "        text-align: right;\n",
              "    }\n",
              "</style>\n",
              "<table border=\"1\" class=\"dataframe\">\n",
              "  <thead>\n",
              "    <tr style=\"text-align: right;\">\n",
              "      <th></th>\n",
              "      <th>Valores+</th>\n",
              "      <th>Valores-</th>\n",
              "      <th>Media+</th>\n",
              "      <th>Media-</th>\n",
              "      <th>Total</th>\n",
              "    </tr>\n",
              "  </thead>\n",
              "  <tbody>\n",
              "    <tr>\n",
              "      <th>0</th>\n",
              "      <td>82</td>\n",
              "      <td>31</td>\n",
              "      <td>0.326693</td>\n",
              "      <td>0.123506</td>\n",
              "      <td>251</td>\n",
              "    </tr>\n",
              "  </tbody>\n",
              "</table>\n",
              "</div>\n",
              "      <button class=\"colab-df-convert\" onclick=\"convertToInteractive('df-f6c04487-3637-4e4a-9478-2c5db98d932c')\"\n",
              "              title=\"Convert this dataframe to an interactive table.\"\n",
              "              style=\"display:none;\">\n",
              "        \n",
              "  <svg xmlns=\"http://www.w3.org/2000/svg\" height=\"24px\"viewBox=\"0 0 24 24\"\n",
              "       width=\"24px\">\n",
              "    <path d=\"M0 0h24v24H0V0z\" fill=\"none\"/>\n",
              "    <path d=\"M18.56 5.44l.94 2.06.94-2.06 2.06-.94-2.06-.94-.94-2.06-.94 2.06-2.06.94zm-11 1L8.5 8.5l.94-2.06 2.06-.94-2.06-.94L8.5 2.5l-.94 2.06-2.06.94zm10 10l.94 2.06.94-2.06 2.06-.94-2.06-.94-.94-2.06-.94 2.06-2.06.94z\"/><path d=\"M17.41 7.96l-1.37-1.37c-.4-.4-.92-.59-1.43-.59-.52 0-1.04.2-1.43.59L10.3 9.45l-7.72 7.72c-.78.78-.78 2.05 0 2.83L4 21.41c.39.39.9.59 1.41.59.51 0 1.02-.2 1.41-.59l7.78-7.78 2.81-2.81c.8-.78.8-2.07 0-2.86zM5.41 20L4 18.59l7.72-7.72 1.47 1.35L5.41 20z\"/>\n",
              "  </svg>\n",
              "      </button>\n",
              "      \n",
              "  <style>\n",
              "    .colab-df-container {\n",
              "      display:flex;\n",
              "      flex-wrap:wrap;\n",
              "      gap: 12px;\n",
              "    }\n",
              "\n",
              "    .colab-df-convert {\n",
              "      background-color: #E8F0FE;\n",
              "      border: none;\n",
              "      border-radius: 50%;\n",
              "      cursor: pointer;\n",
              "      display: none;\n",
              "      fill: #1967D2;\n",
              "      height: 32px;\n",
              "      padding: 0 0 0 0;\n",
              "      width: 32px;\n",
              "    }\n",
              "\n",
              "    .colab-df-convert:hover {\n",
              "      background-color: #E2EBFA;\n",
              "      box-shadow: 0px 1px 2px rgba(60, 64, 67, 0.3), 0px 1px 3px 1px rgba(60, 64, 67, 0.15);\n",
              "      fill: #174EA6;\n",
              "    }\n",
              "\n",
              "    [theme=dark] .colab-df-convert {\n",
              "      background-color: #3B4455;\n",
              "      fill: #D2E3FC;\n",
              "    }\n",
              "\n",
              "    [theme=dark] .colab-df-convert:hover {\n",
              "      background-color: #434B5C;\n",
              "      box-shadow: 0px 1px 3px 1px rgba(0, 0, 0, 0.15);\n",
              "      filter: drop-shadow(0px 1px 2px rgba(0, 0, 0, 0.3));\n",
              "      fill: #FFFFFF;\n",
              "    }\n",
              "  </style>\n",
              "\n",
              "      <script>\n",
              "        const buttonEl =\n",
              "          document.querySelector('#df-f6c04487-3637-4e4a-9478-2c5db98d932c button.colab-df-convert');\n",
              "        buttonEl.style.display =\n",
              "          google.colab.kernel.accessAllowed ? 'block' : 'none';\n",
              "\n",
              "        async function convertToInteractive(key) {\n",
              "          const element = document.querySelector('#df-f6c04487-3637-4e4a-9478-2c5db98d932c');\n",
              "          const dataTable =\n",
              "            await google.colab.kernel.invokeFunction('convertToInteractive',\n",
              "                                                     [key], {});\n",
              "          if (!dataTable) return;\n",
              "\n",
              "          const docLinkHtml = 'Like what you see? Visit the ' +\n",
              "            '<a target=\"_blank\" href=https://colab.research.google.com/notebooks/data_table.ipynb>data table notebook</a>'\n",
              "            + ' to learn more about interactive tables.';\n",
              "          element.innerHTML = '';\n",
              "          dataTable['output_type'] = 'display_data';\n",
              "          await google.colab.output.renderOutput(dataTable, element);\n",
              "          const docLink = document.createElement('div');\n",
              "          docLink.innerHTML = docLinkHtml;\n",
              "          element.appendChild(docLink);\n",
              "        }\n",
              "      </script>\n",
              "    </div>\n",
              "  </div>\n",
              "  "
            ]
          },
          "metadata": {}
        }
      ]
    }
  ]
}